{
 "cells": [
  {
   "cell_type": "markdown",
   "id": "110997c4-6782-4d66-ba16-a0dd576456fc",
   "metadata": {
    "jp-MarkdownHeadingCollapsed": true,
    "tags": []
   },
   "source": [
    "# SQLMurderMystery\n",
    "\n",
    "In this project I'm solving the [SQL Murder Mystery](https://mystery.knightlab.com/)\n",
    "\n",
    "## Description\n",
    "A crime has taken place and the detective needs my help. The detective gave me the crime scene report, but I somehow lost it. I vaguely remember that the crime was a ​murder​ that occurred sometime on ​Jan.15, 2018​ and that it took place in ​SQL City​. I should start by retrieving the corresponding crime scene report from the police department’s database.\n",
    "\n",
    "## Database schema:\n",
    "![Database schema](../db/db_schema.png)\n",
    "\n",
    "I'm going to connect to the sqlite database of the SQLMurderMystery Project"
   ]
  },
  {
   "cell_type": "code",
   "execution_count": 2,
   "id": "ea42e3e0-7d61-4b7a-9a02-1eb9cb732b74",
   "metadata": {
    "tags": []
   },
   "outputs": [],
   "source": [
    "import sqlite3\n",
    "conn = sqlite3.connect('../db/sql-murder-mystery.db')"
   ]
  },
  {
   "cell_type": "code",
   "execution_count": 3,
   "id": "971696dd-2ba5-4171-b232-a9113db48aee",
   "metadata": {},
   "outputs": [],
   "source": [
    "import pandas as pd"
   ]
  },
  {
   "cell_type": "markdown",
   "id": "f4c00430-2978-4b39-b278-9e884232fb6d",
   "metadata": {},
   "source": [
    "I will change the options of the pandas dataframes so I can see the whole answer/row."
   ]
  },
  {
   "cell_type": "code",
   "execution_count": 4,
   "id": "528c935c-d75c-462a-8000-060eccca8b9e",
   "metadata": {},
   "outputs": [],
   "source": [
    "pd.set_option('display.max_colwidth', None)"
   ]
  },
  {
   "cell_type": "markdown",
   "id": "bd9c06f1-bc45-4f88-8fba-045567ce717e",
   "metadata": {},
   "source": [
    "## Retrieving the crime scene report\n",
    "Since I remember that the crime was a `​murder`​ that occurred sometime on `​Jan.15, 2018`​ and that it took place in `​SQL City`, I'm going to search the **crime_scene_report** table to retrieve the discription of the crime with the following query:"
   ]
  },
  {
   "cell_type": "code",
   "execution_count": 5,
   "id": "0b5d3ee2-2510-4ed0-9785-cfab73fd520f",
   "metadata": {},
   "outputs": [],
   "source": [
    "case_description = pd.read_sql_query('''\n",
    "select description\n",
    "from crime_scene_report   \n",
    "where date=20180115 and city='SQL City' and type='murder'\n",
    "''', conn)"
   ]
  },
  {
   "cell_type": "code",
   "execution_count": 6,
   "id": "64669bb6-45c3-4976-8f1b-1b50b1fea34e",
   "metadata": {},
   "outputs": [
    {
     "data": {
      "text/html": [
       "<div>\n",
       "<style scoped>\n",
       "    .dataframe tbody tr th:only-of-type {\n",
       "        vertical-align: middle;\n",
       "    }\n",
       "\n",
       "    .dataframe tbody tr th {\n",
       "        vertical-align: top;\n",
       "    }\n",
       "\n",
       "    .dataframe thead th {\n",
       "        text-align: right;\n",
       "    }\n",
       "</style>\n",
       "<table border=\"1\" class=\"dataframe\">\n",
       "  <thead>\n",
       "    <tr style=\"text-align: right;\">\n",
       "      <th></th>\n",
       "      <th>description</th>\n",
       "    </tr>\n",
       "  </thead>\n",
       "  <tbody>\n",
       "    <tr>\n",
       "      <th>0</th>\n",
       "      <td>Security footage shows that there were 2 witnesses. The first witness lives at the last house on \"Northwestern Dr\". The second witness, named Annabel, lives somewhere on \"Franklin Ave\".</td>\n",
       "    </tr>\n",
       "  </tbody>\n",
       "</table>\n",
       "</div>"
      ],
      "text/plain": [
       "                                                                                                                                                                                 description\n",
       "0  Security footage shows that there were 2 witnesses. The first witness lives at the last house on \"Northwestern Dr\". The second witness, named Annabel, lives somewhere on \"Franklin Ave\"."
      ]
     },
     "execution_count": 6,
     "metadata": {},
     "output_type": "execute_result"
    }
   ],
   "source": [
    "case_description"
   ]
  },
  {
   "cell_type": "markdown",
   "id": "199d449a-b40c-491f-a320-bf94bc5027e0",
   "metadata": {},
   "source": [
    "## Witnesses\n",
    "From the report above I know we have **2** witnesses:\n",
    "1. located at the `last` house on `\"Northwestern Dr\"`\n",
    "2. `Annabel`, somewhere on `\"Franklin Ave\"`. \n",
    "\n",
    "**Let's search!**\n",
    "\n",
    "I notice that the clues I'm looking for are attributes in the person table and all I need for now are their IDs.\n"
   ]
  },
  {
   "cell_type": "code",
   "execution_count": 7,
   "id": "1c37cf70-4484-47d3-81c6-c3f5ca59f2c8",
   "metadata": {},
   "outputs": [],
   "source": [
    "witness_1 = pd.read_sql_query('''\n",
    "select id\n",
    "from person\n",
    "where address_street_name='Northwestern Dr'\n",
    "order by address_number desc \n",
    "limit 1\n",
    "''',conn)\n",
    "witness_1_id = witness_1.iloc[0]['id']"
   ]
  },
  {
   "cell_type": "code",
   "execution_count": 8,
   "id": "e6b182d2-8769-463b-a87d-aa8d97873b0d",
   "metadata": {},
   "outputs": [
    {
     "data": {
      "text/html": [
       "<div>\n",
       "<style scoped>\n",
       "    .dataframe tbody tr th:only-of-type {\n",
       "        vertical-align: middle;\n",
       "    }\n",
       "\n",
       "    .dataframe tbody tr th {\n",
       "        vertical-align: top;\n",
       "    }\n",
       "\n",
       "    .dataframe thead th {\n",
       "        text-align: right;\n",
       "    }\n",
       "</style>\n",
       "<table border=\"1\" class=\"dataframe\">\n",
       "  <thead>\n",
       "    <tr style=\"text-align: right;\">\n",
       "      <th></th>\n",
       "      <th>id</th>\n",
       "    </tr>\n",
       "  </thead>\n",
       "  <tbody>\n",
       "    <tr>\n",
       "      <th>0</th>\n",
       "      <td>14887</td>\n",
       "    </tr>\n",
       "  </tbody>\n",
       "</table>\n",
       "</div>"
      ],
      "text/plain": [
       "      id\n",
       "0  14887"
      ]
     },
     "execution_count": 8,
     "metadata": {},
     "output_type": "execute_result"
    }
   ],
   "source": [
    "witness_1"
   ]
  },
  {
   "cell_type": "code",
   "execution_count": 9,
   "id": "c63f04d8-99da-4e99-828f-3d779adb559c",
   "metadata": {},
   "outputs": [],
   "source": [
    "witness_2 = pd.read_sql_query('''\n",
    "select id\n",
    "from person\n",
    "where name like 'Annabel%' and address_street_name = 'Franklin Ave'\n",
    "limit 1\n",
    "''',conn)\n",
    "witness_2_id = witness_2.iloc[0]['id']"
   ]
  },
  {
   "cell_type": "code",
   "execution_count": 10,
   "id": "c85a99d3-0328-466e-ad0d-ae497654cf00",
   "metadata": {},
   "outputs": [
    {
     "data": {
      "text/html": [
       "<div>\n",
       "<style scoped>\n",
       "    .dataframe tbody tr th:only-of-type {\n",
       "        vertical-align: middle;\n",
       "    }\n",
       "\n",
       "    .dataframe tbody tr th {\n",
       "        vertical-align: top;\n",
       "    }\n",
       "\n",
       "    .dataframe thead th {\n",
       "        text-align: right;\n",
       "    }\n",
       "</style>\n",
       "<table border=\"1\" class=\"dataframe\">\n",
       "  <thead>\n",
       "    <tr style=\"text-align: right;\">\n",
       "      <th></th>\n",
       "      <th>id</th>\n",
       "    </tr>\n",
       "  </thead>\n",
       "  <tbody>\n",
       "    <tr>\n",
       "      <th>0</th>\n",
       "      <td>16371</td>\n",
       "    </tr>\n",
       "  </tbody>\n",
       "</table>\n",
       "</div>"
      ],
      "text/plain": [
       "      id\n",
       "0  16371"
      ]
     },
     "execution_count": 10,
     "metadata": {},
     "output_type": "execute_result"
    }
   ],
   "source": [
    "witness_2"
   ]
  },
  {
   "cell_type": "markdown",
   "id": "19a41383-32a1-4d56-8243-3fd79601e86a",
   "metadata": {},
   "source": [
    "## Witnesses Interviews\n",
    "\n",
    "Let's see what the witness 1 & 2 saw that night.\n",
    "\n",
    "> I'm going to use the persons ID on the interview table (where the person_id is the FK from the person table)"
   ]
  },
  {
   "cell_type": "code",
   "execution_count": 11,
   "id": "654449a1-a349-44e3-aae9-7cd8474d6467",
   "metadata": {},
   "outputs": [],
   "source": [
    "witnesses_interviews = pd.read_sql_query(f'''\n",
    "select \n",
    "case\n",
    "\twhen person_id={witness_1_id} then 'Witness 1'\n",
    "\telse  'Witness 2'\n",
    "end as witness, transcript\t\n",
    "from interview\n",
    "where person_id in ({witness_1_id}, {witness_2_id})\n",
    "''',conn)"
   ]
  },
  {
   "cell_type": "code",
   "execution_count": 12,
   "id": "50f20e63-8c6c-41c3-91ff-89b6d9f41bab",
   "metadata": {},
   "outputs": [
    {
     "data": {
      "text/html": [
       "<div>\n",
       "<style scoped>\n",
       "    .dataframe tbody tr th:only-of-type {\n",
       "        vertical-align: middle;\n",
       "    }\n",
       "\n",
       "    .dataframe tbody tr th {\n",
       "        vertical-align: top;\n",
       "    }\n",
       "\n",
       "    .dataframe thead th {\n",
       "        text-align: right;\n",
       "    }\n",
       "</style>\n",
       "<table border=\"1\" class=\"dataframe\">\n",
       "  <thead>\n",
       "    <tr style=\"text-align: right;\">\n",
       "      <th></th>\n",
       "      <th>witness</th>\n",
       "      <th>transcript</th>\n",
       "    </tr>\n",
       "  </thead>\n",
       "  <tbody>\n",
       "    <tr>\n",
       "      <th>0</th>\n",
       "      <td>Witness 1</td>\n",
       "      <td>I heard a gunshot and then saw a man run out. He had a \"Get Fit Now Gym\" bag. The membership number on the bag started with \"48Z\". Only gold members have those bags. The man got into a car with a plate that included \"H42W\".</td>\n",
       "    </tr>\n",
       "    <tr>\n",
       "      <th>1</th>\n",
       "      <td>Witness 2</td>\n",
       "      <td>I saw the murder happen, and I recognized the killer from my gym when I was working out last week on January the 9th.</td>\n",
       "    </tr>\n",
       "  </tbody>\n",
       "</table>\n",
       "</div>"
      ],
      "text/plain": [
       "     witness  \\\n",
       "0  Witness 1   \n",
       "1  Witness 2   \n",
       "\n",
       "                                                                                                                                                                                                                        transcript  \n",
       "0  I heard a gunshot and then saw a man run out. He had a \"Get Fit Now Gym\" bag. The membership number on the bag started with \"48Z\". Only gold members have those bags. The man got into a car with a plate that included \"H42W\".  \n",
       "1                                                                                                            I saw the murder happen, and I recognized the killer from my gym when I was working out last week on January the 9th.  "
      ]
     },
     "execution_count": 12,
     "metadata": {},
     "output_type": "execute_result"
    }
   ],
   "source": [
    "witnesses_interviews"
   ]
  },
  {
   "cell_type": "markdown",
   "id": "fcfa78fc-b8a2-483a-a858-fa00ef9ba7ae",
   "metadata": {},
   "source": [
    "## Following the leads\n",
    "\n",
    "From the witnesses interviews we got the following leads:\n",
    "- man\n",
    "- \"Get Fit Now Gym\" bag\n",
    "- membership number started with \"48Z\"\n",
    "- gold membership status\n",
    "- car plate includes \"H42W\"\n",
    "- last week, 9th of Jan\n",
    "\n",
    "**Let's search!**\n",
    "\n",
    "First, I'm going to extract all the person IDs from the gym info that I got from the witnesses, hence I'll be using the tables get_fit_now_check_in and get_fit_now_member.\n",
    "\n",
    "Then, I will limit down the suspects, based on their license plates.\n",
    "\n",
    "Gym Info Query:"
   ]
  },
  {
   "cell_type": "code",
   "execution_count": 13,
   "id": "ef9537a8-733d-445d-adf9-8bb0782cf4e9",
   "metadata": {},
   "outputs": [],
   "source": [
    "gym_info= pd.read_sql_query('''\n",
    "select get_fit_now_member.person_id\n",
    "from get_fit_now_member\n",
    "inner join get_fit_now_check_in\n",
    "   on get_fit_now_member.id=get_fit_now_check_in.membership_id\n",
    "where get_fit_now_check_in.check_in_date=20180109 and get_fit_now_member.id like '48Z%'\n",
    " and get_fit_now_member.membership_status= 'gold'\n",
    "''',conn)"
   ]
  },
  {
   "cell_type": "code",
   "execution_count": 14,
   "id": "aadd4382-e229-4ba2-af6b-f00f13e259b4",
   "metadata": {},
   "outputs": [
    {
     "data": {
      "text/html": [
       "<div>\n",
       "<style scoped>\n",
       "    .dataframe tbody tr th:only-of-type {\n",
       "        vertical-align: middle;\n",
       "    }\n",
       "\n",
       "    .dataframe tbody tr th {\n",
       "        vertical-align: top;\n",
       "    }\n",
       "\n",
       "    .dataframe thead th {\n",
       "        text-align: right;\n",
       "    }\n",
       "</style>\n",
       "<table border=\"1\" class=\"dataframe\">\n",
       "  <thead>\n",
       "    <tr style=\"text-align: right;\">\n",
       "      <th></th>\n",
       "      <th>person_id</th>\n",
       "    </tr>\n",
       "  </thead>\n",
       "  <tbody>\n",
       "    <tr>\n",
       "      <th>0</th>\n",
       "      <td>28819</td>\n",
       "    </tr>\n",
       "    <tr>\n",
       "      <th>1</th>\n",
       "      <td>67318</td>\n",
       "    </tr>\n",
       "  </tbody>\n",
       "</table>\n",
       "</div>"
      ],
      "text/plain": [
       "   person_id\n",
       "0      28819\n",
       "1      67318"
      ]
     },
     "execution_count": 14,
     "metadata": {},
     "output_type": "execute_result"
    }
   ],
   "source": [
    "gym_info"
   ]
  },
  {
   "cell_type": "markdown",
   "id": "51b04cff-0dfd-421b-8da0-ac0d9e675e99",
   "metadata": {},
   "source": [
    "License Info Query:"
   ]
  },
  {
   "cell_type": "code",
   "execution_count": 15,
   "id": "8ca39db8-b740-4106-a1dd-b83ef59536e8",
   "metadata": {},
   "outputs": [],
   "source": [
    "license_info = pd.read_sql_query('''\n",
    "select person.id as MainSuspect\n",
    "from person\n",
    "inner join drivers_license\n",
    "   on person.license_id=drivers_license.id\n",
    "where drivers_license.plate_number like '%H42W%' and person.id in (28819,67318)\n",
    "''',conn)"
   ]
  },
  {
   "cell_type": "code",
   "execution_count": 16,
   "id": "5967dcc3-c3e8-4c51-aaf4-1b82a29f3641",
   "metadata": {},
   "outputs": [
    {
     "data": {
      "text/html": [
       "<div>\n",
       "<style scoped>\n",
       "    .dataframe tbody tr th:only-of-type {\n",
       "        vertical-align: middle;\n",
       "    }\n",
       "\n",
       "    .dataframe tbody tr th {\n",
       "        vertical-align: top;\n",
       "    }\n",
       "\n",
       "    .dataframe thead th {\n",
       "        text-align: right;\n",
       "    }\n",
       "</style>\n",
       "<table border=\"1\" class=\"dataframe\">\n",
       "  <thead>\n",
       "    <tr style=\"text-align: right;\">\n",
       "      <th></th>\n",
       "      <th>MainSuspect</th>\n",
       "    </tr>\n",
       "  </thead>\n",
       "  <tbody>\n",
       "    <tr>\n",
       "      <th>0</th>\n",
       "      <td>67318</td>\n",
       "    </tr>\n",
       "  </tbody>\n",
       "</table>\n",
       "</div>"
      ],
      "text/plain": [
       "   MainSuspect\n",
       "0        67318"
      ]
     },
     "execution_count": 16,
     "metadata": {},
     "output_type": "execute_result"
    }
   ],
   "source": [
    "license_info"
   ]
  },
  {
   "cell_type": "code",
   "execution_count": 17,
   "id": "e16708c5-7a68-4383-b6bb-6139ed05d8ae",
   "metadata": {},
   "outputs": [],
   "source": [
    "main_suspect = license_info.iloc[0]['MainSuspect']"
   ]
  },
  {
   "cell_type": "markdown",
   "id": "8501cb83-d01e-411e-8a6e-285fe82da4a4",
   "metadata": {},
   "source": [
    "## Main Suspect Interview\n",
    "Even though we know the person's ID, we also need to know what his statement was."
   ]
  },
  {
   "cell_type": "code",
   "execution_count": 18,
   "id": "6b7b49a6-dbcc-4afc-b40c-f714b1b7b83d",
   "metadata": {},
   "outputs": [],
   "source": [
    "main_suspect_interview = pd.read_sql_query(f'''\n",
    "select transcript\n",
    "from interview\n",
    "where person_id={main_suspect}\n",
    "''',conn)"
   ]
  },
  {
   "cell_type": "code",
   "execution_count": 19,
   "id": "6e505536-ab00-4ae8-8802-5a73a184f025",
   "metadata": {},
   "outputs": [
    {
     "data": {
      "text/html": [
       "<div>\n",
       "<style scoped>\n",
       "    .dataframe tbody tr th:only-of-type {\n",
       "        vertical-align: middle;\n",
       "    }\n",
       "\n",
       "    .dataframe tbody tr th {\n",
       "        vertical-align: top;\n",
       "    }\n",
       "\n",
       "    .dataframe thead th {\n",
       "        text-align: right;\n",
       "    }\n",
       "</style>\n",
       "<table border=\"1\" class=\"dataframe\">\n",
       "  <thead>\n",
       "    <tr style=\"text-align: right;\">\n",
       "      <th></th>\n",
       "      <th>transcript</th>\n",
       "    </tr>\n",
       "  </thead>\n",
       "  <tbody>\n",
       "    <tr>\n",
       "      <th>0</th>\n",
       "      <td>I was hired by a woman with a lot of money. I don't know her name but I know she's around 5'5\" (65\") or 5'7\" (67\"). She has red hair and she drives a Tesla Model S. I know that she attended the SQL Symphony Concert 3 times in December 2017.\\n</td>\n",
       "    </tr>\n",
       "  </tbody>\n",
       "</table>\n",
       "</div>"
      ],
      "text/plain": [
       "                                                                                                                                                                                                                                           transcript\n",
       "0  I was hired by a woman with a lot of money. I don't know her name but I know she's around 5'5\" (65\") or 5'7\" (67\"). She has red hair and she drives a Tesla Model S. I know that she attended the SQL Symphony Concert 3 times in December 2017.\\n"
      ]
     },
     "execution_count": 19,
     "metadata": {},
     "output_type": "execute_result"
    }
   ],
   "source": [
    "main_suspect_interview"
   ]
  },
  {
   "cell_type": "markdown",
   "id": "a2000917-eb92-480a-abb4-19726bd9f16e",
   "metadata": {},
   "source": [
    "## The Killer\n",
    "It seems like we are on the verge of finding the key person. Here's the usefull info that we took from the hitman interview:\n",
    "- has a lot of money\n",
    "- is around 5'5\" (65\") or 5'7\" (67\")\n",
    "- has red hair\n",
    "- owns a Tesla\n",
    "  - Model S\n",
    "- attended the SQL Symphony Concert\n",
    "  - 3 times in Dec 2017\n",
    "\n",
    "All the leads are scattered around the tables:\n",
    "- income\n",
    "- person\n",
    "- drivers_license\n",
    "- facebook_event_checkin\n",
    "\n",
    "Killer Query"
   ]
  },
  {
   "cell_type": "code",
   "execution_count": 20,
   "id": "550a1a7f-eb02-4467-9ff9-e762711671b4",
   "metadata": {},
   "outputs": [],
   "source": [
    "killer = pd.read_sql_query('''\n",
    "select person.name\n",
    "from income\n",
    "inner join person\n",
    "   on income.ssn=person.ssn\n",
    "inner join drivers_license as dl\n",
    "   on person.license_id=dl.id\n",
    "inner join facebook_event_checkin as fec\n",
    "   on person.id=fec.person_id\n",
    "where dl.hair_color= 'red' and dl.height between 65 and 67 and dl.car_make='Tesla'\n",
    "and dl.car_model='Model S' and fec.event_name='SQL Symphony Concert'\n",
    "and fec.date like '201712%'\n",
    "group by person.name\n",
    "having count(person.name)=3\n",
    "order by income.annual_income desc\n",
    "''',conn)"
   ]
  },
  {
   "cell_type": "code",
   "execution_count": 21,
   "id": "f991a2ee-714e-4614-ba51-d40e17c496fb",
   "metadata": {},
   "outputs": [
    {
     "data": {
      "text/html": [
       "<div>\n",
       "<style scoped>\n",
       "    .dataframe tbody tr th:only-of-type {\n",
       "        vertical-align: middle;\n",
       "    }\n",
       "\n",
       "    .dataframe tbody tr th {\n",
       "        vertical-align: top;\n",
       "    }\n",
       "\n",
       "    .dataframe thead th {\n",
       "        text-align: right;\n",
       "    }\n",
       "</style>\n",
       "<table border=\"1\" class=\"dataframe\">\n",
       "  <thead>\n",
       "    <tr style=\"text-align: right;\">\n",
       "      <th></th>\n",
       "      <th>name</th>\n",
       "    </tr>\n",
       "  </thead>\n",
       "  <tbody>\n",
       "    <tr>\n",
       "      <th>0</th>\n",
       "      <td>Miranda Priestly</td>\n",
       "    </tr>\n",
       "  </tbody>\n",
       "</table>\n",
       "</div>"
      ],
      "text/plain": [
       "               name\n",
       "0  Miranda Priestly"
      ]
     },
     "execution_count": 21,
     "metadata": {},
     "output_type": "execute_result"
    }
   ],
   "source": [
    "killer"
   ]
  },
  {
   "cell_type": "markdown",
   "id": "a2391dd5-32e3-489f-b710-967140f1d1a6",
   "metadata": {},
   "source": [
    "Now I'm going to check if I actually found the killer."
   ]
  },
  {
   "cell_type": "code",
   "execution_count": 22,
   "id": "c1bb15d9-acca-43d6-833f-73eaae64713b",
   "metadata": {},
   "outputs": [],
   "source": [
    "killer_name = killer.iloc[0]['name']"
   ]
  },
  {
   "cell_type": "code",
   "execution_count": 23,
   "id": "d5ad364a-ff5e-4afe-addf-a47a1a3e35ae",
   "metadata": {},
   "outputs": [],
   "source": [
    "conn.execute(f'''\n",
    "insert into solution values (1, '{killer_name}');\n",
    "''')\n",
    "conn.commit()"
   ]
  },
  {
   "cell_type": "code",
   "execution_count": 24,
   "id": "9a52715c-c424-4c96-8ada-1594f38206a9",
   "metadata": {},
   "outputs": [],
   "source": [
    "solution = pd.read_sql_query('''\n",
    "select value from solution;\n",
    "''',conn)"
   ]
  },
  {
   "cell_type": "code",
   "execution_count": 25,
   "id": "12a4b461-25bb-4973-840b-ce8999b29027",
   "metadata": {},
   "outputs": [
    {
     "data": {
      "text/html": [
       "<div>\n",
       "<style scoped>\n",
       "    .dataframe tbody tr th:only-of-type {\n",
       "        vertical-align: middle;\n",
       "    }\n",
       "\n",
       "    .dataframe tbody tr th {\n",
       "        vertical-align: top;\n",
       "    }\n",
       "\n",
       "    .dataframe thead th {\n",
       "        text-align: right;\n",
       "    }\n",
       "</style>\n",
       "<table border=\"1\" class=\"dataframe\">\n",
       "  <thead>\n",
       "    <tr style=\"text-align: right;\">\n",
       "      <th></th>\n",
       "      <th>value</th>\n",
       "    </tr>\n",
       "  </thead>\n",
       "  <tbody>\n",
       "    <tr>\n",
       "      <th>0</th>\n",
       "      <td>Congrats, you found the brains behind the murder! Everyone in SQL City hails you as the greatest SQL detective of all time. Time to break out the champagne!</td>\n",
       "    </tr>\n",
       "  </tbody>\n",
       "</table>\n",
       "</div>"
      ],
      "text/plain": [
       "                                                                                                                                                          value\n",
       "0  Congrats, you found the brains behind the murder! Everyone in SQL City hails you as the greatest SQL detective of all time. Time to break out the champagne!"
      ]
     },
     "execution_count": 25,
     "metadata": {},
     "output_type": "execute_result"
    }
   ],
   "source": [
    "solution"
   ]
  },
  {
   "cell_type": "code",
   "execution_count": 26,
   "id": "a9ae0ca7-4657-47cd-99b4-ef4ce816e8c0",
   "metadata": {},
   "outputs": [],
   "source": [
    "conn.close()"
   ]
  },
  {
   "cell_type": "code",
   "execution_count": null,
   "id": "853773fe-bff1-4a41-b949-d05602c6f470",
   "metadata": {},
   "outputs": [],
   "source": []
  }
 ],
 "metadata": {
  "kernelspec": {
   "display_name": "Python 3 (ipykernel)",
   "language": "python",
   "name": "python3"
  },
  "language_info": {
   "codemirror_mode": {
    "name": "ipython",
    "version": 3
   },
   "file_extension": ".py",
   "mimetype": "text/x-python",
   "name": "python",
   "nbconvert_exporter": "python",
   "pygments_lexer": "ipython3",
   "version": "3.10.2"
  }
 },
 "nbformat": 4,
 "nbformat_minor": 5
}
